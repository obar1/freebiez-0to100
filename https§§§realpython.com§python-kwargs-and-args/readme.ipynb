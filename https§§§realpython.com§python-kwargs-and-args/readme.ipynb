{
  "cells": [
    {
      "cell_type": "markdown",
      "metadata": {
        "id": "iCqrP9_DQMRo"
      },
      "source": [
        "https://realpython.com/python-kwargs-and-args/"
      ]
    },
    {
      "cell_type": "markdown",
      "metadata": {
        "id": "lQAaHQzVSj9U"
      },
      "source": [
        "func"
      ]
    },
    {
      "cell_type": "code",
      "execution_count": 5,
      "metadata": {
        "id": "rpI-6Ef8QNSK"
      },
      "outputs": [],
      "source": [
        "def my_sum(a,b): \n",
        "  return a+b"
      ]
    },
    {
      "cell_type": "code",
      "execution_count": 10,
      "metadata": {
        "colab": {
          "base_uri": "https://localhost:8080/"
        },
        "id": "nWSQVKzIQaM1",
        "outputId": "b3f6c556-a365-4cc2-c221-eec4bfed2bfa"
      },
      "outputs": [
        {
          "name": "stdout",
          "output_type": "stream",
          "text": [
            "6\n"
          ]
        }
      ],
      "source": [
        "def my_sum(my_integers):\n",
        "  \"\"\" simple  \"\"\"\n",
        "  result = 0\n",
        "  for x in my_integers:\n",
        "    result += x\n",
        "  return result\n",
        "\n",
        "print(my_sum([1, 2, 3]))"
      ]
    },
    {
      "cell_type": "code",
      "execution_count": 17,
      "metadata": {
        "colab": {
          "base_uri": "https://localhost:8080/"
        },
        "id": "rqZMR5AbQfsS",
        "outputId": "a70344d9-6210-47ad-92b6-5279e122975e"
      },
      "outputs": [
        {
          "name": "stdout",
          "output_type": "stream",
          "text": [
            "6\n",
            "6\n",
            "6\n"
          ]
        }
      ],
      "source": [
        "def my_sum(*args):\n",
        "  \"\"\" with *args \"\"\"\n",
        "  result = 0\n",
        "  # Iterating over the Python args tuple\n",
        "  for x in args:\n",
        "    result += x\n",
        "  return result\n",
        "\n",
        "print(my_sum(1, 2, 3))\n",
        "print(my_sum(*[1, 2, 3]))\n",
        "print(my_sum(*(1, 2, 3)))"
      ]
    },
    {
      "cell_type": "code",
      "execution_count": 20,
      "metadata": {
        "colab": {
          "base_uri": "https://localhost:8080/"
        },
        "id": "jps0J82ZQivI",
        "outputId": "cc48d1c8-7df3-42e4-cbfa-3c7d0cae8b77"
      },
      "outputs": [
        {
          "name": "stdout",
          "output_type": "stream",
          "text": [
            "RealPythonIsGreat!\n"
          ]
        }
      ],
      "source": [
        "def concatenate(**words):\n",
        "  \"\"\"conc with **kw \"\"\"\n",
        "  result = \"\"\n",
        "  # Iterating over the Python kwargs dictionary\n",
        "  for _,v in words.items():\n",
        "    result += v\n",
        "  return result\n",
        "\n",
        "print(concatenate(a=\"Real\", b=\"Python\", c=\"Is\", d=\"Great\", e=\"!\"))"
      ]
    },
    {
      "cell_type": "code",
      "execution_count": 22,
      "metadata": {
        "id": "QVbSy29kRvJG"
      },
      "outputs": [],
      "source": [
        "def my_function(a, b, *args, **kwargs):\n",
        "  \"\"\" gen func \"\"\"\n",
        "  pass"
      ]
    },
    {
      "cell_type": "code",
      "execution_count": 24,
      "metadata": {
        "colab": {
          "base_uri": "https://localhost:8080/"
        },
        "id": "Oe5cGp-TR3BO",
        "outputId": "a5fad47d-9787-4068-b4a7-201f17585a47"
      },
      "outputs": [
        {
          "name": "stdout",
          "output_type": "stream",
          "text": [
            "1 2 True\n"
          ]
        }
      ],
      "source": [
        "def my_sum(a, b, c):\n",
        "    print(f'{a} {b} {c}')\n",
        "\n",
        "my_list = [1, '2', True]\n",
        "my_sum(*my_list)"
      ]
    },
    {
      "cell_type": "code",
      "execution_count": 26,
      "metadata": {
        "colab": {
          "base_uri": "https://localhost:8080/"
        },
        "id": "lM5FIJizSEh1",
        "outputId": "c293e073-5d4a-4d1a-9eea-1d041855494a"
      },
      "outputs": [
        {
          "name": "stdout",
          "output_type": "stream",
          "text": [
            "21\n"
          ]
        }
      ],
      "source": [
        "def my_sum(*args):\n",
        "  result = 0\n",
        "  for x in args:\n",
        "    result += x \n",
        "  return result \n",
        "\n",
        "print(my_sum(*[1,2,3],*[4,5], 6))"
      ]
    },
    {
      "cell_type": "markdown",
      "metadata": {
        "id": "6ptjYe_4SmCL"
      },
      "source": [
        "merging"
      ]
    },
    {
      "cell_type": "code",
      "execution_count": 27,
      "metadata": {
        "colab": {
          "base_uri": "https://localhost:8080/"
        },
        "id": "H4BeLonkSYba",
        "outputId": "df987e32-4dd0-4354-979d-296465914c19"
      },
      "outputs": [
        {
          "name": "stdout",
          "output_type": "stream",
          "text": [
            "1\n",
            "[2, 3, 4, 5]\n",
            "6\n"
          ]
        }
      ],
      "source": [
        "# extract_list_body.py\n",
        "my_list = [1, 2, 3, 4, 5, 6]\n",
        "\n",
        "a, *b, c = my_list\n",
        "\n",
        "print(a)\n",
        "print(b)\n",
        "print(c)"
      ]
    },
    {
      "cell_type": "code",
      "execution_count": 28,
      "metadata": {
        "colab": {
          "base_uri": "https://localhost:8080/"
        },
        "id": "JtqPc_O5SbeP",
        "outputId": "37782a71-54dc-4ebf-fb0a-c94767ea4673"
      },
      "outputs": [
        {
          "name": "stdout",
          "output_type": "stream",
          "text": [
            "[1, 2, 3, 4, 5, 6]\n"
          ]
        }
      ],
      "source": [
        "# merging_lists.py\n",
        "my_first_list = [1, 2, 3]\n",
        "my_second_list = [4, 5, 6]\n",
        "my_merged_list = [*my_first_list, *my_second_list]\n",
        "\n",
        "print(my_merged_list)"
      ]
    },
    {
      "cell_type": "code",
      "execution_count": 29,
      "metadata": {
        "colab": {
          "base_uri": "https://localhost:8080/"
        },
        "id": "IiZuyZuvSeJJ",
        "outputId": "192c5918-a97d-42b8-9008-dcd07772b547"
      },
      "outputs": [
        {
          "name": "stdout",
          "output_type": "stream",
          "text": [
            "{'A': 1, 'B': 2, 'C': 3, 'D': 4}\n"
          ]
        }
      ],
      "source": [
        "# merging_dicts.py\n",
        "my_first_dict = {\"A\": 1, \"B\": 2}\n",
        "my_second_dict = {\"C\": 3, \"D\": 4}\n",
        "my_merged_dict = {**my_first_dict, **my_second_dict}\n",
        "\n",
        "print(my_merged_dict)"
      ]
    },
    {
      "cell_type": "code",
      "execution_count": 30,
      "metadata": {
        "colab": {
          "base_uri": "https://localhost:8080/"
        },
        "id": "rZssp9UlShFt",
        "outputId": "29714212-8331-4bef-fc62-9986db258284"
      },
      "outputs": [
        {
          "name": "stdout",
          "output_type": "stream",
          "text": [
            "['R', 'e', 'a', 'l', 'P', 'y', 't', 'h', 'o', 'n']\n"
          ]
        }
      ],
      "source": [
        "# string_to_list.py\n",
        "a = [*\"RealPython\"]\n",
        "print(a)"
      ]
    }
  ],
  "metadata": {
    "colab": {
      "provenance": []
    },
    "kernelspec": {
      "display_name": "Python 3",
      "language": "python",
      "name": "python3"
    },
    "language_info": {
      "name": "python",
      "version": "3.10.6"
    },
    "vscode": {
      "interpreter": {
        "hash": "916dbcbb3f70747c44a77c7bcd40155683ae19c65e1c03b4aa3499c5328201f1"
      }
    }
  },
  "nbformat": 4,
  "nbformat_minor": 0
}
